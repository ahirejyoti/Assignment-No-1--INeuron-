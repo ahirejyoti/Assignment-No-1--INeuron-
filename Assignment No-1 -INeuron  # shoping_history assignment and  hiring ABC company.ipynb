{
 "cells": [
  {
   "cell_type": "markdown",
   "metadata": {},
   "source": [
    "Task 1-Create the following table structure in SNOWFLAKE by creating your own warehouse. Insert some 10 rows using INSERT command (check task 3 and same way insert for all task tables) in the table by trying different values for all the columns and then check using SELECT *\n"
   ]
  },
  {
   "cell_type": "code",
   "execution_count": null,
   "metadata": {},
   "outputs": [],
   "source": [
    "\n",
    "create table shoping_history(\n",
    "product varchar not null,\n",
    "quantity int not null,\n",
    "unit_price int not null);\n",
    "\n",
    "\n",
    "INSERT INTO shoping_history (product, quantity, unit_price) VALUES ('milk', 3, 10), ('bread', 7, 3), ('bread', 5, 2);\n",
    "INSERT INTO shoping_history (product, quantity, unit_price) VALUES ('biscuit', 5, 15), ('suger', 5, 8), ('coffee', 5, 4);\n",
    "\n",
    "\n",
    "select * from shoping_history;\n",
    "\n",
    "-- Create the shoping_history table\n",
    "CREATE TABLE shoping_history (\n",
    "    product VARCHAR NOT NULL,\n",
    "    quantity INT NOT NULL,\n",
    "    unit_price INT NOT NULL\n",
    ");\n",
    "\n",
    "-- Insert data into the table\n",
    "INSERT INTO shoping_history (product, quantity, unit_price)\n",
    "VALUES\n",
    "    ('milk', 3, 10),\n",
    "    ('bread', 7, 3),\n",
    "    ('bread', 5, 2),\n",
    "    ('biscuit', 5, 15),\n",
    "    ('suger', 5, 8)\n",
    "    ('coffee', 5, 4);\n"
   ]
  },
  {
   "cell_type": "markdown",
   "metadata": {},
   "source": [
    "  your query should return:\n",
    "  \n",
    "  product    total_price \n",
    "  milk        30\n",
    "  bread        31"
   ]
  },
  {
   "cell_type": "code",
   "execution_count": null,
   "metadata": {},
   "outputs": [],
   "source": [
    "SELECT\n",
    "    product,\n",
    "    SUM(quantity * unit_price) AS total_price\n",
    "FROM\n",
    "    shoping_history\n",
    "GROUP BY\n",
    "    product;\n"
   ]
  },
  {
   "cell_type": "markdown",
   "metadata": {},
   "source": [
    "Task -2 #A telecommunication company"
   ]
  },
  {
   "cell_type": "code",
   "execution_count": null,
   "metadata": {},
   "outputs": [],
   "source": [
    "Task-1--- Create the phones table\n",
    "CREATE TABLE phones (\n",
    "    name VARCHAR(20) NOT NULL UNIQUE,\n",
    "    phone_number INT NOT NULL UNIQUE\n",
    ");\n",
    "\n",
    "-- Insert values into the phones table\n",
    "INSERT INTO phones (name, phone_number) VALUES\n",
    "    ('Jack', 1234),\n",
    "    ('Lena', 3333),\n",
    "    ('Mark', 9999),\n",
    "    ('Anna', 7582);\n"
   ]
  },
  {
   "cell_type": "code",
   "execution_count": null,
   "metadata": {},
   "outputs": [],
   "source": [
    "Task -2 -- Create the calls table\n",
    "CREATE TABLE calls (\n",
    "    id INT NOT NULL,\n",
    "    caller INT NOT NULL,\n",
    "    callee INT NOT NULL,\n",
    "    duration INT NOT NULL,\n",
    "    UNIQUE(id)\n",
    ");\n",
    "\n",
    "-- Insert values into the calls table\n",
    "INSERT INTO calls (id, caller, callee, duration) VALUES\n",
    "    (25, 1234, 7582, 8),\n",
    "    (7, 9999, 7582, 1),\n",
    "    (18, 9999, 3333, 4),\n",
    "    (2, 7582, 3333, 3),\n",
    "    (3, 3333, 1234, 1),\n",
    "    (21, 3333, 1234, 1);\n"
   ]
  },
  {
   "cell_type": "code",
   "execution_count": null,
   "metadata": {},
   "outputs": [],
   "source": [
    "SELECT p.name\n",
    "FROM phones p\n",
    "JOIN calls c ON p.phone_number = c.caller OR p.phone_number = c.callee\n",
    "GROUP BY p.name\n",
    "HAVING SUM(c.duration) >= 10\n",
    "ORDER BY p.name;\n"
   ]
  },
  {
   "cell_type": "code",
   "execution_count": null,
   "metadata": {},
   "outputs": [],
   "source": [
    "-- Insert values into the phones table\n",
    "INSERT INTO phones (name, phone_number) VALUES\n",
    "    ('Jhon', 6356),\n",
    "    ('Adison', 4315),\n",
    "    ('kate', 8003),\n",
    "    ('Ginny', 9831);\n",
    "\n",
    "-- Insert values into the calls table\n",
    "INSERT INTO calls (id, caller, callee, duration) VALUES\n",
    "    (65, 8003, 9831, 7),\n",
    "    (100, 9831, 8003, 3),\n",
    "    (145, 4315, 9831, 18);\n"
   ]
  },
  {
   "cell_type": "code",
   "execution_count": null,
   "metadata": {},
   "outputs": [],
   "source": [
    "-- Insert values into the phones table\n",
    "INSERT INTO phones (name, phone_number) VALUES\n",
    "    ('Jhon', 6356),\n",
    "    ('Adison', 4315),\n",
    "    ('kate', 8003),\n",
    "    ('Ginny', 9831);\n",
    "\n",
    "-- Insert values into the calls table\n",
    "INSERT INTO calls (id, caller, callee, duration) VALUES\n",
    "    (65, 8003, 9831, 7),\n",
    "    (100, 9831, 8003, 3),\n",
    "    (145, 4315, 9831, 18);\n"
   ]
  },
  {
   "cell_type": "code",
   "execution_count": null,
   "metadata": {},
   "outputs": [],
   "source": [
    "SELECT p.name\n",
    "FROM phones p\n",
    "LEFT JOIN calls c ON p.phone_number = c.caller\n",
    "                OR p.phone_number = c.callee\n",
    "GROUP BY p.name\n",
    "HAVING SUM(c.duration) >= 10\n",
    "ORDER BY p.name;\n"
   ]
  },
  {
   "cell_type": "markdown",
   "metadata": {},
   "source": [
    "Task 3: Output display is just one column balance"
   ]
  },
  {
   "cell_type": "code",
   "execution_count": null,
   "metadata": {},
   "outputs": [],
   "source": [
    "CREATE TABLE transactions(\n",
    "  AMOUNT INT NOT NULL,\n",
    "  Date DATE NOT NULL);\n",
    "\n",
    "INSERT INTO transactions (Amount, Date) VALUES (1000,'2020-01-06');\n",
    "INSERT INTO transactions (Amount, Date) VALUES (-10,'2020-01-14');\n",
    "INSERT INTO transactions (Amount, Date) VALUES (-75,'2020-01-20');\n",
    "INSERT INTO transactions (Amount, Date) VALUES (-5,'2020-01-25');\n",
    "INSERT INTO transactions (Amount, Date) VALUES (-4,'2020-01-29');\n",
    "INSERT INTO transactions (Amount, Date) VALUES (2000,'2020-03-10');\n",
    "INSERT INTO transactions (Amount, Date) VALUES (-75,'2020-03-12');\n",
    "INSERT INTO transactions (Amount, Date) VALUES (-20,'2020-03-15');\n",
    "INSERT INTO transactions (Amount, Date) VALUES (40,'2020-03-15');\n",
    "INSERT INTO transactions (Amount, Date) VALUES (-50,'2020-03-17');\n",
    "INSERT INTO transactions (Amount, Date) VALUES (200,'2020-10-10');\n",
    "INSERT INTO transactions (Amount, Date) VALUES (-200,'2020-10-10');\n",
    "\n",
    "SELECT * FROM transactions;\n",
    "\n",
    "select sum(amount), count(1), date_part('month', date) as month from transactions where amount < 0 group by month;\n",
    "\n",
    "SELECT\n",
    "  Date,\n",
    "  SUM(Amount) AS total_bal\n",
    "FROM transactions\n",
    "GROUP BY date;"
   ]
  }
 ],
 "metadata": {
  "kernelspec": {
   "display_name": "Python 3",
   "language": "python",
   "name": "python3"
  },
  "language_info": {
   "codemirror_mode": {
    "name": "ipython",
    "version": 3
   },
   "file_extension": ".py",
   "mimetype": "text/x-python",
   "name": "python",
   "nbconvert_exporter": "python",
   "pygments_lexer": "ipython3",
   "version": "3.8.3"
  }
 },
 "nbformat": 4,
 "nbformat_minor": 4
}
